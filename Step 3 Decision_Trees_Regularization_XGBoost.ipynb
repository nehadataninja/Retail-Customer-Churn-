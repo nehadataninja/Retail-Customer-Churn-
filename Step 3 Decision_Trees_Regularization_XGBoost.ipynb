{
 "cells": [
  {
   "cell_type": "code",
   "execution_count": 31,
   "metadata": {
    "id": "1kuRiNBwogOe",
    "scrolled": true
   },
   "outputs": [],
   "source": [
    "import numpy as np\n",
    "import pandas as pd\n",
    "import matplotlib.pyplot as plt\n",
    "import seaborn as sns\n",
    "from scipy import stats\n",
    "from sklearn.preprocessing import StandardScaler\n",
    "#from imblearn.over_sampling import SMOTE\n",
    "from sklearn.model_selection import train_test_split, cross_validate, KFold, GridSearchCV,StratifiedKFold\n",
    "from sklearn.metrics import accuracy_score, precision_score, recall_score, fbeta_score, make_scorer, confusion_matrix,plot_precision_recall_curve\n",
    "from sklearn.metrics import plot_roc_curve\n",
    "from sklearn.tree import DecisionTreeClassifier\n",
    "from sklearn.model_selection import GridSearchCV, cross_validate\n",
    "from imblearn.pipeline import make_pipeline\n",
    "from imblearn.over_sampling import RandomOverSampler\n",
    "from sklearn.metrics import precision_score, recall_score, f1_score, roc_auc_score\n",
    "from imblearn.metrics import classification_report_imbalanced\n",
    "from sklearn.pipeline import Pipeline\n",
    "from xgboost import XGBClassifier\n",
    "import warnings\n",
    "warnings.filterwarnings('ignore')\n",
    "pd.set_option('display.max_columns', None)"
   ]
  },
  {
   "cell_type": "code",
   "execution_count": 32,
   "metadata": {},
   "outputs": [
    {
     "name": "stdout",
     "output_type": "stream",
     "text": [
      "1.0.2\n"
     ]
    }
   ],
   "source": [
    "import sklearn\n",
    "print(sklearn.__version__)"
   ]
  },
  {
   "cell_type": "code",
   "execution_count": 33,
   "metadata": {
    "colab": {
     "base_uri": "https://localhost:8080/",
     "height": 305
    },
    "id": "6d_riS3JRjIO",
    "outputId": "34a41329-e391-4cee-a591-65a1ee56c43b"
   },
   "outputs": [
    {
     "data": {
      "text/html": [
       "<div>\n",
       "<style scoped>\n",
       "    .dataframe tbody tr th:only-of-type {\n",
       "        vertical-align: middle;\n",
       "    }\n",
       "\n",
       "    .dataframe tbody tr th {\n",
       "        vertical-align: top;\n",
       "    }\n",
       "\n",
       "    .dataframe thead th {\n",
       "        text-align: right;\n",
       "    }\n",
       "</style>\n",
       "<table border=\"1\" class=\"dataframe\">\n",
       "  <thead>\n",
       "    <tr style=\"text-align: right;\">\n",
       "      <th></th>\n",
       "      <th>CustomerID</th>\n",
       "      <th>Churn</th>\n",
       "      <th>Tenure</th>\n",
       "      <th>PreferredLoginDevice</th>\n",
       "      <th>CityTier</th>\n",
       "      <th>WarehouseToHome</th>\n",
       "      <th>PreferredPaymentMode</th>\n",
       "      <th>Gender</th>\n",
       "      <th>HourSpendOnApp</th>\n",
       "      <th>NumberOfDeviceRegistered</th>\n",
       "      <th>PreferedOrderCat</th>\n",
       "      <th>SatisfactionScore</th>\n",
       "      <th>MaritalStatus</th>\n",
       "      <th>NumberOfAddress</th>\n",
       "      <th>Complain</th>\n",
       "      <th>OrderAmountHikeFromlastYear</th>\n",
       "      <th>CouponUsed</th>\n",
       "      <th>OrderCount</th>\n",
       "      <th>DaySinceLastOrder</th>\n",
       "      <th>CashbackAmount</th>\n",
       "    </tr>\n",
       "  </thead>\n",
       "  <tbody>\n",
       "    <tr>\n",
       "      <th>0</th>\n",
       "      <td>50001</td>\n",
       "      <td>1</td>\n",
       "      <td>4.0</td>\n",
       "      <td>Mobile Phone</td>\n",
       "      <td>3</td>\n",
       "      <td>6.0</td>\n",
       "      <td>Debit Card</td>\n",
       "      <td>Female</td>\n",
       "      <td>3.0</td>\n",
       "      <td>3</td>\n",
       "      <td>Laptop &amp; Accessory</td>\n",
       "      <td>2</td>\n",
       "      <td>Single</td>\n",
       "      <td>9</td>\n",
       "      <td>1</td>\n",
       "      <td>11.0</td>\n",
       "      <td>1.0</td>\n",
       "      <td>1.0</td>\n",
       "      <td>5.0</td>\n",
       "      <td>159.93</td>\n",
       "    </tr>\n",
       "    <tr>\n",
       "      <th>1</th>\n",
       "      <td>50002</td>\n",
       "      <td>1</td>\n",
       "      <td>NaN</td>\n",
       "      <td>Phone</td>\n",
       "      <td>1</td>\n",
       "      <td>8.0</td>\n",
       "      <td>UPI</td>\n",
       "      <td>Male</td>\n",
       "      <td>3.0</td>\n",
       "      <td>4</td>\n",
       "      <td>Mobile</td>\n",
       "      <td>3</td>\n",
       "      <td>Single</td>\n",
       "      <td>7</td>\n",
       "      <td>1</td>\n",
       "      <td>15.0</td>\n",
       "      <td>0.0</td>\n",
       "      <td>1.0</td>\n",
       "      <td>0.0</td>\n",
       "      <td>120.90</td>\n",
       "    </tr>\n",
       "    <tr>\n",
       "      <th>2</th>\n",
       "      <td>50003</td>\n",
       "      <td>1</td>\n",
       "      <td>NaN</td>\n",
       "      <td>Phone</td>\n",
       "      <td>1</td>\n",
       "      <td>30.0</td>\n",
       "      <td>Debit Card</td>\n",
       "      <td>Male</td>\n",
       "      <td>2.0</td>\n",
       "      <td>4</td>\n",
       "      <td>Mobile</td>\n",
       "      <td>3</td>\n",
       "      <td>Single</td>\n",
       "      <td>6</td>\n",
       "      <td>1</td>\n",
       "      <td>14.0</td>\n",
       "      <td>0.0</td>\n",
       "      <td>1.0</td>\n",
       "      <td>3.0</td>\n",
       "      <td>120.28</td>\n",
       "    </tr>\n",
       "    <tr>\n",
       "      <th>3</th>\n",
       "      <td>50004</td>\n",
       "      <td>1</td>\n",
       "      <td>0.0</td>\n",
       "      <td>Phone</td>\n",
       "      <td>3</td>\n",
       "      <td>15.0</td>\n",
       "      <td>Debit Card</td>\n",
       "      <td>Male</td>\n",
       "      <td>2.0</td>\n",
       "      <td>4</td>\n",
       "      <td>Laptop &amp; Accessory</td>\n",
       "      <td>5</td>\n",
       "      <td>Single</td>\n",
       "      <td>8</td>\n",
       "      <td>0</td>\n",
       "      <td>23.0</td>\n",
       "      <td>0.0</td>\n",
       "      <td>1.0</td>\n",
       "      <td>3.0</td>\n",
       "      <td>134.07</td>\n",
       "    </tr>\n",
       "    <tr>\n",
       "      <th>4</th>\n",
       "      <td>50005</td>\n",
       "      <td>1</td>\n",
       "      <td>0.0</td>\n",
       "      <td>Phone</td>\n",
       "      <td>1</td>\n",
       "      <td>12.0</td>\n",
       "      <td>CC</td>\n",
       "      <td>Male</td>\n",
       "      <td>NaN</td>\n",
       "      <td>3</td>\n",
       "      <td>Mobile</td>\n",
       "      <td>5</td>\n",
       "      <td>Single</td>\n",
       "      <td>3</td>\n",
       "      <td>0</td>\n",
       "      <td>11.0</td>\n",
       "      <td>1.0</td>\n",
       "      <td>1.0</td>\n",
       "      <td>3.0</td>\n",
       "      <td>129.60</td>\n",
       "    </tr>\n",
       "  </tbody>\n",
       "</table>\n",
       "</div>"
      ],
      "text/plain": [
       "   CustomerID  Churn  Tenure PreferredLoginDevice  CityTier  WarehouseToHome  \\\n",
       "0       50001      1     4.0         Mobile Phone         3              6.0   \n",
       "1       50002      1     NaN                Phone         1              8.0   \n",
       "2       50003      1     NaN                Phone         1             30.0   \n",
       "3       50004      1     0.0                Phone         3             15.0   \n",
       "4       50005      1     0.0                Phone         1             12.0   \n",
       "\n",
       "  PreferredPaymentMode  Gender  HourSpendOnApp  NumberOfDeviceRegistered  \\\n",
       "0           Debit Card  Female             3.0                         3   \n",
       "1                  UPI    Male             3.0                         4   \n",
       "2           Debit Card    Male             2.0                         4   \n",
       "3           Debit Card    Male             2.0                         4   \n",
       "4                   CC    Male             NaN                         3   \n",
       "\n",
       "     PreferedOrderCat  SatisfactionScore MaritalStatus  NumberOfAddress  \\\n",
       "0  Laptop & Accessory                  2        Single                9   \n",
       "1              Mobile                  3        Single                7   \n",
       "2              Mobile                  3        Single                6   \n",
       "3  Laptop & Accessory                  5        Single                8   \n",
       "4              Mobile                  5        Single                3   \n",
       "\n",
       "   Complain  OrderAmountHikeFromlastYear  CouponUsed  OrderCount  \\\n",
       "0         1                         11.0         1.0         1.0   \n",
       "1         1                         15.0         0.0         1.0   \n",
       "2         1                         14.0         0.0         1.0   \n",
       "3         0                         23.0         0.0         1.0   \n",
       "4         0                         11.0         1.0         1.0   \n",
       "\n",
       "   DaySinceLastOrder  CashbackAmount  \n",
       "0                5.0          159.93  \n",
       "1                0.0          120.90  \n",
       "2                3.0          120.28  \n",
       "3                3.0          134.07  \n",
       "4                3.0          129.60  "
      ]
     },
     "execution_count": 33,
     "metadata": {},
     "output_type": "execute_result"
    }
   ],
   "source": [
    "df = pd.read_excel('https://github.com/SudiSana/Churn-dataset/raw/main/E_Commerce_Dataset.xlsx', sheet_name=1)\n",
    "df.head()"
   ]
  },
  {
   "cell_type": "code",
   "execution_count": 34,
   "metadata": {
    "colab": {
     "base_uri": "https://localhost:8080/",
     "height": 305
    },
    "id": "WpNYoUA4rT3I",
    "outputId": "c731ca1a-3d3d-4e3a-938c-2cca651219a3"
   },
   "outputs": [
    {
     "data": {
      "text/html": [
       "<div>\n",
       "<style scoped>\n",
       "    .dataframe tbody tr th:only-of-type {\n",
       "        vertical-align: middle;\n",
       "    }\n",
       "\n",
       "    .dataframe tbody tr th {\n",
       "        vertical-align: top;\n",
       "    }\n",
       "\n",
       "    .dataframe thead th {\n",
       "        text-align: right;\n",
       "    }\n",
       "</style>\n",
       "<table border=\"1\" class=\"dataframe\">\n",
       "  <thead>\n",
       "    <tr style=\"text-align: right;\">\n",
       "      <th></th>\n",
       "      <th>Customer_ID</th>\n",
       "      <th>Churn_Flag</th>\n",
       "      <th>Tenure_Time</th>\n",
       "      <th>Login_Device</th>\n",
       "      <th>Tier_City</th>\n",
       "      <th>Dist_Warehouse_Home</th>\n",
       "      <th>Payment_Mode</th>\n",
       "      <th>Gender</th>\n",
       "      <th>Hours_App</th>\n",
       "      <th>Registered_Devices</th>\n",
       "      <th>Order_Category</th>\n",
       "      <th>SatisfactionScore</th>\n",
       "      <th>MaritalStatus</th>\n",
       "      <th>Number_Address</th>\n",
       "      <th>Complain</th>\n",
       "      <th>Percentage_Increase_Last_Year</th>\n",
       "      <th>Coupon_Used_LM</th>\n",
       "      <th>Order_Count</th>\n",
       "      <th>Days_LO</th>\n",
       "      <th>Average_Cashback</th>\n",
       "    </tr>\n",
       "  </thead>\n",
       "  <tbody>\n",
       "    <tr>\n",
       "      <th>0</th>\n",
       "      <td>50001</td>\n",
       "      <td>1</td>\n",
       "      <td>4.0</td>\n",
       "      <td>Mobile Phone</td>\n",
       "      <td>3</td>\n",
       "      <td>6.0</td>\n",
       "      <td>Debit Card</td>\n",
       "      <td>Female</td>\n",
       "      <td>3.0</td>\n",
       "      <td>3</td>\n",
       "      <td>Laptop &amp; Accessory</td>\n",
       "      <td>2</td>\n",
       "      <td>Single</td>\n",
       "      <td>9</td>\n",
       "      <td>1</td>\n",
       "      <td>11.0</td>\n",
       "      <td>1.0</td>\n",
       "      <td>1.0</td>\n",
       "      <td>5.0</td>\n",
       "      <td>159.93</td>\n",
       "    </tr>\n",
       "    <tr>\n",
       "      <th>1</th>\n",
       "      <td>50002</td>\n",
       "      <td>1</td>\n",
       "      <td>NaN</td>\n",
       "      <td>Phone</td>\n",
       "      <td>1</td>\n",
       "      <td>8.0</td>\n",
       "      <td>UPI</td>\n",
       "      <td>Male</td>\n",
       "      <td>3.0</td>\n",
       "      <td>4</td>\n",
       "      <td>Mobile</td>\n",
       "      <td>3</td>\n",
       "      <td>Single</td>\n",
       "      <td>7</td>\n",
       "      <td>1</td>\n",
       "      <td>15.0</td>\n",
       "      <td>0.0</td>\n",
       "      <td>1.0</td>\n",
       "      <td>0.0</td>\n",
       "      <td>120.90</td>\n",
       "    </tr>\n",
       "    <tr>\n",
       "      <th>2</th>\n",
       "      <td>50003</td>\n",
       "      <td>1</td>\n",
       "      <td>NaN</td>\n",
       "      <td>Phone</td>\n",
       "      <td>1</td>\n",
       "      <td>30.0</td>\n",
       "      <td>Debit Card</td>\n",
       "      <td>Male</td>\n",
       "      <td>2.0</td>\n",
       "      <td>4</td>\n",
       "      <td>Mobile</td>\n",
       "      <td>3</td>\n",
       "      <td>Single</td>\n",
       "      <td>6</td>\n",
       "      <td>1</td>\n",
       "      <td>14.0</td>\n",
       "      <td>0.0</td>\n",
       "      <td>1.0</td>\n",
       "      <td>3.0</td>\n",
       "      <td>120.28</td>\n",
       "    </tr>\n",
       "    <tr>\n",
       "      <th>3</th>\n",
       "      <td>50004</td>\n",
       "      <td>1</td>\n",
       "      <td>0.0</td>\n",
       "      <td>Phone</td>\n",
       "      <td>3</td>\n",
       "      <td>15.0</td>\n",
       "      <td>Debit Card</td>\n",
       "      <td>Male</td>\n",
       "      <td>2.0</td>\n",
       "      <td>4</td>\n",
       "      <td>Laptop &amp; Accessory</td>\n",
       "      <td>5</td>\n",
       "      <td>Single</td>\n",
       "      <td>8</td>\n",
       "      <td>0</td>\n",
       "      <td>23.0</td>\n",
       "      <td>0.0</td>\n",
       "      <td>1.0</td>\n",
       "      <td>3.0</td>\n",
       "      <td>134.07</td>\n",
       "    </tr>\n",
       "    <tr>\n",
       "      <th>4</th>\n",
       "      <td>50005</td>\n",
       "      <td>1</td>\n",
       "      <td>0.0</td>\n",
       "      <td>Phone</td>\n",
       "      <td>1</td>\n",
       "      <td>12.0</td>\n",
       "      <td>CC</td>\n",
       "      <td>Male</td>\n",
       "      <td>NaN</td>\n",
       "      <td>3</td>\n",
       "      <td>Mobile</td>\n",
       "      <td>5</td>\n",
       "      <td>Single</td>\n",
       "      <td>3</td>\n",
       "      <td>0</td>\n",
       "      <td>11.0</td>\n",
       "      <td>1.0</td>\n",
       "      <td>1.0</td>\n",
       "      <td>3.0</td>\n",
       "      <td>129.60</td>\n",
       "    </tr>\n",
       "  </tbody>\n",
       "</table>\n",
       "</div>"
      ],
      "text/plain": [
       "   Customer_ID  Churn_Flag  Tenure_Time  Login_Device  Tier_City  \\\n",
       "0        50001           1          4.0  Mobile Phone          3   \n",
       "1        50002           1          NaN         Phone          1   \n",
       "2        50003           1          NaN         Phone          1   \n",
       "3        50004           1          0.0         Phone          3   \n",
       "4        50005           1          0.0         Phone          1   \n",
       "\n",
       "   Dist_Warehouse_Home Payment_Mode  Gender  Hours_App  Registered_Devices  \\\n",
       "0                  6.0   Debit Card  Female        3.0                   3   \n",
       "1                  8.0          UPI    Male        3.0                   4   \n",
       "2                 30.0   Debit Card    Male        2.0                   4   \n",
       "3                 15.0   Debit Card    Male        2.0                   4   \n",
       "4                 12.0           CC    Male        NaN                   3   \n",
       "\n",
       "       Order_Category  SatisfactionScore MaritalStatus  Number_Address  \\\n",
       "0  Laptop & Accessory                  2        Single               9   \n",
       "1              Mobile                  3        Single               7   \n",
       "2              Mobile                  3        Single               6   \n",
       "3  Laptop & Accessory                  5        Single               8   \n",
       "4              Mobile                  5        Single               3   \n",
       "\n",
       "   Complain  Percentage_Increase_Last_Year  Coupon_Used_LM  Order_Count  \\\n",
       "0         1                           11.0             1.0          1.0   \n",
       "1         1                           15.0             0.0          1.0   \n",
       "2         1                           14.0             0.0          1.0   \n",
       "3         0                           23.0             0.0          1.0   \n",
       "4         0                           11.0             1.0          1.0   \n",
       "\n",
       "   Days_LO  Average_Cashback  \n",
       "0      5.0            159.93  \n",
       "1      0.0            120.90  \n",
       "2      3.0            120.28  \n",
       "3      3.0            134.07  \n",
       "4      3.0            129.60  "
      ]
     },
     "execution_count": 34,
     "metadata": {},
     "output_type": "execute_result"
    }
   ],
   "source": [
    "df2 = df.rename(columns={'CustomerID': 'Customer_ID', 'Churn': 'Churn_Flag', 'Tenure': 'Tenure_Time', 'PreferredLoginDevice': 'Login_Device', 'CityTier': 'Tier_City',\n",
    "                        'WarehouseToHome': 'Dist_Warehouse_Home','PreferredPaymentMode': 'Payment_Mode', 'Gender': 'Gender', 'HourSpendOnApp': 'Hours_App',\n",
    "                        'NumberOfDeviceRegistered': 'Registered_Devices', 'PreferedOrderCat': 'Order_Category','SatisfactionScore': 'SatisfactionScore','MaritalStatus': 'MaritalStatus',\n",
    "                        'NumberOfAddress': 'Number_Address','Complain': 'Complain','OrderAmountHikeFromlastYear': 'Percentage_Increase_Last_Year', 'CouponUsed': 'Coupon_Used_LM',\n",
    "                        'OrderCount': 'Order_Count', 'DaySinceLastOrder': 'Days_LO','CashbackAmount': 'Average_Cashback'})\n",
    "df2.head()"
   ]
  },
  {
   "cell_type": "code",
   "execution_count": 35,
   "metadata": {
    "id": "sr20K4srhO_W"
   },
   "outputs": [],
   "source": [
    "def summary(text, df):\n",
    "    print(f'{text} shape: {df.shape}')\n",
    "    summ = pd.DataFrame(df.dtypes, columns=['dtypes'])\n",
    "    summ['null'] = df.isnull().sum()\n",
    "    summ['unique'] = df.nunique()\n",
    "    summ['min'] = df.min()\n",
    "    summ['median'] = df.median()\n",
    "    summ['max'] = df.max()\n",
    "    summ['mean'] = df.mean()\n",
    "    summ['std'] = df.std()\n",
    "    return summ"
   ]
  },
  {
   "cell_type": "code",
   "execution_count": 36,
   "metadata": {
    "id": "xtya2SQjhoFT"
   },
   "outputs": [],
   "source": [
    "duplicate_rows = df2.duplicated()"
   ]
  },
  {
   "cell_type": "code",
   "execution_count": 37,
   "metadata": {
    "colab": {
     "base_uri": "https://localhost:8080/"
    },
    "id": "he9QJmslh1Tn",
    "outputId": "3d0b8165-40a6-4778-a567-776c4e6e69c1"
   },
   "outputs": [
    {
     "name": "stdout",
     "output_type": "stream",
     "text": [
      "Duplicate Rows:\n",
      "Empty DataFrame\n",
      "Columns: [Customer_ID, Churn_Flag, Tenure_Time, Login_Device, Tier_City, Dist_Warehouse_Home, Payment_Mode, Gender, Hours_App, Registered_Devices, Order_Category, SatisfactionScore, MaritalStatus, Number_Address, Complain, Percentage_Increase_Last_Year, Coupon_Used_LM, Order_Count, Days_LO, Average_Cashback]\n",
      "Index: []\n"
     ]
    }
   ],
   "source": [
    "# Print duplicate rows\n",
    "print(\"Duplicate Rows:\")\n",
    "print(df2[duplicate_rows])"
   ]
  },
  {
   "cell_type": "code",
   "execution_count": 38,
   "metadata": {
    "id": "VTt4ZcgDh_CS"
   },
   "outputs": [],
   "source": [
    "cats= ['Login_Device', 'Payment_Mode', 'Gender', 'Order_Category', 'MaritalStatus']\n",
    "ordinal = ['Tier_City', 'SatisfactionScore']\n",
    "binary = ['Churn_Flag', 'Complain']\n",
    "nums = df2.loc[:, ~df2.columns.isin(cats + binary + ordinal)].columns[1:]\n",
    "#df[cats].describe()"
   ]
  },
  {
   "cell_type": "code",
   "execution_count": 39,
   "metadata": {
    "id": "QQhjtVGoiX0w"
   },
   "outputs": [],
   "source": [
    "file_dict = {}\n",
    "\n",
    "for col in cats:\n",
    "    #fig, ax = plt.subplots(figsize=(8, 8))\n",
    "    file_dict[col] = df2[col].value_counts().rename_axis(col).reset_index(name='Counts')\n"
   ]
  },
  {
   "cell_type": "code",
   "execution_count": 40,
   "metadata": {
    "id": "WfD2wYV4iz2J"
   },
   "outputs": [],
   "source": [
    "def churn_plot(x, data):\n",
    "    df_cats = data.copy()\n",
    "    df_city = df_cats.groupby(x)['Customer_ID'].nunique().reset_index(name='Total')\n",
    "    df_churn =  df_cats.groupby([x, 'Churn_Flag'])['Customer_ID'].nunique().reset_index(name='TotalCustomer')\n",
    "    df_merge = df_churn.merge(df_city, on=x)\n",
    "    df_merge['Percentage'] = round(df_merge['TotalCustomer']/df_merge['Total']*100,2)\n",
    "    df_merge = df_merge[df_merge['Churn_Flag'] == 1]\n",
    "    return df_merge"
   ]
  },
  {
   "cell_type": "code",
   "execution_count": 41,
   "metadata": {
    "colab": {
     "base_uri": "https://localhost:8080/"
    },
    "id": "MqlWwwTwjCWl",
    "outputId": "9832b3f2-5b06-45cb-82de-69d5d7644400"
   },
   "outputs": [
    {
     "name": "stdout",
     "output_type": "stream",
     "text": [
      "Requirement already satisfied: fancyimpute in c:\\users\\naikn\\anaconda3\\lib\\site-packages (0.7.0)\n",
      "Requirement already satisfied: cvxpy in c:\\users\\naikn\\anaconda3\\lib\\site-packages (from fancyimpute) (1.3.1)\n",
      "Requirement already satisfied: pytest in c:\\users\\naikn\\anaconda3\\lib\\site-packages (from fancyimpute) (7.1.2)\n",
      "Requirement already satisfied: knnimpute>=0.1.0 in c:\\users\\naikn\\anaconda3\\lib\\site-packages (from fancyimpute) (0.1.0)\n",
      "Requirement already satisfied: cvxopt in c:\\users\\naikn\\anaconda3\\lib\\site-packages (from fancyimpute) (1.3.0.1)\n",
      "Requirement already satisfied: scikit-learn>=0.24.2 in c:\\users\\naikn\\anaconda3\\lib\\site-packages (from fancyimpute) (1.0.2)\n",
      "Requirement already satisfied: nose in c:\\users\\naikn\\anaconda3\\lib\\site-packages (from fancyimpute) (1.3.7)\n",
      "Requirement already satisfied: six in c:\\users\\naikn\\anaconda3\\lib\\site-packages (from knnimpute>=0.1.0->fancyimpute) (1.16.0)\n",
      "Requirement already satisfied: numpy>=1.10 in c:\\users\\naikn\\anaconda3\\lib\\site-packages (from knnimpute>=0.1.0->fancyimpute) (1.21.5)\n",
      "Requirement already satisfied: scipy>=1.1.0 in c:\\users\\naikn\\anaconda3\\lib\\site-packages (from scikit-learn>=0.24.2->fancyimpute) (1.9.1)\n",
      "Requirement already satisfied: threadpoolctl>=2.0.0 in c:\\users\\naikn\\anaconda3\\lib\\site-packages (from scikit-learn>=0.24.2->fancyimpute) (2.2.0)\n",
      "Requirement already satisfied: joblib>=0.11 in c:\\users\\naikn\\anaconda3\\lib\\site-packages (from scikit-learn>=0.24.2->fancyimpute) (1.2.0)\n",
      "Requirement already satisfied: setuptools>65.5.1 in c:\\users\\naikn\\anaconda3\\lib\\site-packages (from cvxpy->fancyimpute) (67.6.1)\n",
      "Requirement already satisfied: ecos>=2 in c:\\users\\naikn\\anaconda3\\lib\\site-packages (from cvxpy->fancyimpute) (2.0.12)\n",
      "Requirement already satisfied: osqp>=0.4.1 in c:\\users\\naikn\\anaconda3\\lib\\site-packages (from cvxpy->fancyimpute) (0.6.2.post9)\n",
      "Requirement already satisfied: scs>=1.1.6 in c:\\users\\naikn\\anaconda3\\lib\\site-packages (from cvxpy->fancyimpute) (3.2.3)\n",
      "Requirement already satisfied: attrs>=19.2.0 in c:\\users\\naikn\\anaconda3\\lib\\site-packages (from pytest->fancyimpute) (21.4.0)\n",
      "Requirement already satisfied: iniconfig in c:\\users\\naikn\\anaconda3\\lib\\site-packages (from pytest->fancyimpute) (1.1.1)\n",
      "Requirement already satisfied: packaging in c:\\users\\naikn\\anaconda3\\lib\\site-packages (from pytest->fancyimpute) (21.3)\n",
      "Requirement already satisfied: pluggy<2.0,>=0.12 in c:\\users\\naikn\\anaconda3\\lib\\site-packages (from pytest->fancyimpute) (1.0.0)\n",
      "Requirement already satisfied: py>=1.8.2 in c:\\users\\naikn\\anaconda3\\lib\\site-packages (from pytest->fancyimpute) (1.11.0)\n",
      "Requirement already satisfied: tomli>=1.0.0 in c:\\users\\naikn\\anaconda3\\lib\\site-packages (from pytest->fancyimpute) (2.0.1)\n",
      "Requirement already satisfied: atomicwrites>=1.0 in c:\\users\\naikn\\anaconda3\\lib\\site-packages (from pytest->fancyimpute) (1.4.0)\n",
      "Requirement already satisfied: colorama in c:\\users\\naikn\\anaconda3\\lib\\site-packages (from pytest->fancyimpute) (0.4.5)\n",
      "Requirement already satisfied: qdldl in c:\\users\\naikn\\anaconda3\\lib\\site-packages (from osqp>=0.4.1->cvxpy->fancyimpute) (0.1.7)\n",
      "Requirement already satisfied: pyparsing!=3.0.5,>=2.0.2 in c:\\users\\naikn\\anaconda3\\lib\\site-packages (from packaging->pytest->fancyimpute) (3.0.9)\n"
     ]
    }
   ],
   "source": [
    "# Perform MICE imputation\n",
    "exception_columns = ['Customer_ID','Tier_City', 'Payment_Mode', 'Gender', 'Order_Category', 'MaritalStatus','Churn_Flag', 'Complain','SatisfactionScore']\n",
    "df_numeric = df2.drop(columns=exception_columns)\n",
    "df3=df2\n",
    "!pip install fancyimpute\n",
    "from fancyimpute import IterativeImputer\n",
    "imputer = IterativeImputer()\n",
    "df_imputed = imputer.fit_transform(df3[nums])\n",
    "df_numeric_imputed = pd.DataFrame(df_imputed, columns=df3[nums].columns)\n",
    "df3 = pd.concat([df_numeric_imputed, df3[exception_columns]], axis=1)\n"
   ]
  },
  {
   "cell_type": "code",
   "execution_count": 42,
   "metadata": {},
   "outputs": [
    {
     "data": {
      "text/plain": [
       "Index(['Tenure_Time', 'Dist_Warehouse_Home', 'Hours_App', 'Registered_Devices',\n",
       "       'Number_Address', 'Percentage_Increase_Last_Year', 'Coupon_Used_LM',\n",
       "       'Order_Count', 'Days_LO', 'Average_Cashback', 'Customer_ID',\n",
       "       'Tier_City', 'Payment_Mode', 'Gender', 'Order_Category',\n",
       "       'MaritalStatus', 'Churn_Flag', 'Complain', 'SatisfactionScore'],\n",
       "      dtype='object')"
      ]
     },
     "execution_count": 42,
     "metadata": {},
     "output_type": "execute_result"
    }
   ],
   "source": [
    "df3.columns"
   ]
  },
  {
   "cell_type": "code",
   "execution_count": 43,
   "metadata": {
    "colab": {
     "base_uri": "https://localhost:8080/"
    },
    "id": "KBZQyTlSjVcj",
    "outputId": "9c3844f5-0e26-4a74-ff8e-436f9c638d8c"
   },
   "outputs": [
    {
     "data": {
      "text/plain": [
       "Index(['Tenure_Time', 'Dist_Warehouse_Home', 'Hours_App', 'Registered_Devices',\n",
       "       'Number_Address', 'Percentage_Increase_Last_Year', 'Coupon_Used_LM',\n",
       "       'Order_Count', 'Days_LO', 'Average_Cashback'],\n",
       "      dtype='object')"
      ]
     },
     "execution_count": 43,
     "metadata": {},
     "output_type": "execute_result"
    }
   ],
   "source": [
    "df3[nums].columns"
   ]
  },
  {
   "cell_type": "code",
   "execution_count": 44,
   "metadata": {
    "colab": {
     "base_uri": "https://localhost:8080/"
    },
    "id": "cWBmhGRWRblo",
    "outputId": "b73cc73b-e15f-4cc3-ab55-d88634e67cd2"
   },
   "outputs": [
    {
     "name": "stdout",
     "output_type": "stream",
     "text": [
      "before: 5630\n",
      "after: 5350\n"
     ]
    }
   ],
   "source": [
    "###### Remove outliers \n",
    "print(f'before: {len(df3)}')\n",
    "\n",
    "filtered_entries = np.array([True] * len(df3))\n",
    "\n",
    "for col in nums:\n",
    "    zscore = abs(stats.zscore(df3[col]))\n",
    "    filtered_entries = (zscore < 3) & filtered_entries\n",
    "\n",
    "df4 = df3[filtered_entries]\n",
    "\n",
    "print(f'after: {len(df4)}')"
   ]
  },
  {
   "cell_type": "code",
   "execution_count": 45,
   "metadata": {
    "colab": {
     "base_uri": "https://localhost:8080/",
     "height": 237
    },
    "id": "v4gEXBFzRgbl",
    "outputId": "5f609a09-ce0b-4a8d-9611-c807046d23f6"
   },
   "outputs": [
    {
     "data": {
      "image/png": "[encoded data removed]",
      "text/plain": [
       "<Figure size 1200x400 with 10 Axes>"
      ]
     },
     "metadata": {},
     "output_type": "display_data"
    }
   ],
   "source": [
    "###### Check if outliers are removed\n",
    "plt.figure(figsize=(12,4))\n",
    "for i in range(0, len(nums)):\n",
    "    plt.subplot(2, 5, i+1)\n",
    "    sns.boxplot(y=df4[nums[i]], color='green')\n",
    "    plt.tight_layout()"
   ]
  },
  {
   "cell_type": "code",
   "execution_count": 46,
   "metadata": {
    "id": "nOx-tVLxRwQs"
   },
   "outputs": [],
   "source": [
    "###### Categorical Variables Transformation\n",
    "#df4['Login_Device'] = df4['Login_Device'].replace(['Phone','Mobile Phone'], ['Handphone', 'Handphone'])\n",
    "df4['Payment_Mode'] = df4['Payment_Mode'].replace(['CC','COD'], ['Credit Card','Cash on Delivery'])\n",
    "df4['Order_Category'] = df4['Order_Category'].replace(['Mobile','Mobile Phone', 'Laptop & Accessory'], ['Electronics', 'Electronics', 'Electronics'])\n"
   ]
  },
  {
   "cell_type": "code",
   "execution_count": 47,
   "metadata": {
    "colab": {
     "base_uri": "https://localhost:8080/",
     "height": 287
    },
    "id": "jAXp2xNqR2jX",
    "outputId": "235eebca-df21-4bae-e36f-c12781733e20"
   },
   "outputs": [
    {
     "data": {
      "text/html": [
       "<div>\n",
       "<style scoped>\n",
       "    .dataframe tbody tr th:only-of-type {\n",
       "        vertical-align: middle;\n",
       "    }\n",
       "\n",
       "    .dataframe tbody tr th {\n",
       "        vertical-align: top;\n",
       "    }\n",
       "\n",
       "    .dataframe thead th {\n",
       "        text-align: right;\n",
       "    }\n",
       "</style>\n",
       "<table border=\"1\" class=\"dataframe\">\n",
       "  <thead>\n",
       "    <tr style=\"text-align: right;\">\n",
       "      <th></th>\n",
       "      <th>Tenure_Time</th>\n",
       "      <th>Dist_Warehouse_Home</th>\n",
       "      <th>Hours_App</th>\n",
       "      <th>Registered_Devices</th>\n",
       "      <th>Number_Address</th>\n",
       "      <th>Percentage_Increase_Last_Year</th>\n",
       "      <th>Coupon_Used_LM</th>\n",
       "      <th>Order_Count</th>\n",
       "      <th>Days_LO</th>\n",
       "      <th>Average_Cashback</th>\n",
       "      <th>Customer_ID</th>\n",
       "      <th>Tier_City</th>\n",
       "      <th>Churn_Flag</th>\n",
       "      <th>Complain</th>\n",
       "      <th>SatisfactionScore</th>\n",
       "      <th>Payment_Mode_Cash on Delivery</th>\n",
       "      <th>Payment_Mode_Credit Card</th>\n",
       "      <th>Payment_Mode_Debit Card</th>\n",
       "      <th>Payment_Mode_E wallet</th>\n",
       "      <th>Payment_Mode_UPI</th>\n",
       "      <th>Gender_Female</th>\n",
       "      <th>Gender_Male</th>\n",
       "      <th>Order_Category_Electronics</th>\n",
       "      <th>Order_Category_Fashion</th>\n",
       "      <th>Order_Category_Grocery</th>\n",
       "      <th>Order_Category_Others</th>\n",
       "      <th>MaritalStatus_Divorced</th>\n",
       "      <th>MaritalStatus_Married</th>\n",
       "      <th>MaritalStatus_Single</th>\n",
       "    </tr>\n",
       "  </thead>\n",
       "  <tbody>\n",
       "    <tr>\n",
       "      <th>0</th>\n",
       "      <td>4.000000</td>\n",
       "      <td>6.0</td>\n",
       "      <td>3.000000</td>\n",
       "      <td>3.0</td>\n",
       "      <td>9.0</td>\n",
       "      <td>11.0</td>\n",
       "      <td>1.0</td>\n",
       "      <td>1.0</td>\n",
       "      <td>5.0</td>\n",
       "      <td>159.93</td>\n",
       "      <td>50001</td>\n",
       "      <td>3</td>\n",
       "      <td>1</td>\n",
       "      <td>1</td>\n",
       "      <td>2</td>\n",
       "      <td>0</td>\n",
       "      <td>0</td>\n",
       "      <td>1</td>\n",
       "      <td>0</td>\n",
       "      <td>0</td>\n",
       "      <td>1</td>\n",
       "      <td>0</td>\n",
       "      <td>1</td>\n",
       "      <td>0</td>\n",
       "      <td>0</td>\n",
       "      <td>0</td>\n",
       "      <td>0</td>\n",
       "      <td>0</td>\n",
       "      <td>1</td>\n",
       "    </tr>\n",
       "    <tr>\n",
       "      <th>1</th>\n",
       "      <td>6.454469</td>\n",
       "      <td>8.0</td>\n",
       "      <td>3.000000</td>\n",
       "      <td>4.0</td>\n",
       "      <td>7.0</td>\n",
       "      <td>15.0</td>\n",
       "      <td>0.0</td>\n",
       "      <td>1.0</td>\n",
       "      <td>0.0</td>\n",
       "      <td>120.90</td>\n",
       "      <td>50002</td>\n",
       "      <td>1</td>\n",
       "      <td>1</td>\n",
       "      <td>1</td>\n",
       "      <td>3</td>\n",
       "      <td>0</td>\n",
       "      <td>0</td>\n",
       "      <td>0</td>\n",
       "      <td>0</td>\n",
       "      <td>1</td>\n",
       "      <td>0</td>\n",
       "      <td>1</td>\n",
       "      <td>1</td>\n",
       "      <td>0</td>\n",
       "      <td>0</td>\n",
       "      <td>0</td>\n",
       "      <td>0</td>\n",
       "      <td>0</td>\n",
       "      <td>1</td>\n",
       "    </tr>\n",
       "    <tr>\n",
       "      <th>2</th>\n",
       "      <td>6.711164</td>\n",
       "      <td>30.0</td>\n",
       "      <td>2.000000</td>\n",
       "      <td>4.0</td>\n",
       "      <td>6.0</td>\n",
       "      <td>14.0</td>\n",
       "      <td>0.0</td>\n",
       "      <td>1.0</td>\n",
       "      <td>3.0</td>\n",
       "      <td>120.28</td>\n",
       "      <td>50003</td>\n",
       "      <td>1</td>\n",
       "      <td>1</td>\n",
       "      <td>1</td>\n",
       "      <td>3</td>\n",
       "      <td>0</td>\n",
       "      <td>0</td>\n",
       "      <td>1</td>\n",
       "      <td>0</td>\n",
       "      <td>0</td>\n",
       "      <td>0</td>\n",
       "      <td>1</td>\n",
       "      <td>1</td>\n",
       "      <td>0</td>\n",
       "      <td>0</td>\n",
       "      <td>0</td>\n",
       "      <td>0</td>\n",
       "      <td>0</td>\n",
       "      <td>1</td>\n",
       "    </tr>\n",
       "    <tr>\n",
       "      <th>3</th>\n",
       "      <td>0.000000</td>\n",
       "      <td>15.0</td>\n",
       "      <td>2.000000</td>\n",
       "      <td>4.0</td>\n",
       "      <td>8.0</td>\n",
       "      <td>23.0</td>\n",
       "      <td>0.0</td>\n",
       "      <td>1.0</td>\n",
       "      <td>3.0</td>\n",
       "      <td>134.07</td>\n",
       "      <td>50004</td>\n",
       "      <td>3</td>\n",
       "      <td>1</td>\n",
       "      <td>0</td>\n",
       "      <td>5</td>\n",
       "      <td>0</td>\n",
       "      <td>0</td>\n",
       "      <td>1</td>\n",
       "      <td>0</td>\n",
       "      <td>0</td>\n",
       "      <td>0</td>\n",
       "      <td>1</td>\n",
       "      <td>1</td>\n",
       "      <td>0</td>\n",
       "      <td>0</td>\n",
       "      <td>0</td>\n",
       "      <td>0</td>\n",
       "      <td>0</td>\n",
       "      <td>1</td>\n",
       "    </tr>\n",
       "    <tr>\n",
       "      <th>4</th>\n",
       "      <td>0.000000</td>\n",
       "      <td>12.0</td>\n",
       "      <td>2.645239</td>\n",
       "      <td>3.0</td>\n",
       "      <td>3.0</td>\n",
       "      <td>11.0</td>\n",
       "      <td>1.0</td>\n",
       "      <td>1.0</td>\n",
       "      <td>3.0</td>\n",
       "      <td>129.60</td>\n",
       "      <td>50005</td>\n",
       "      <td>1</td>\n",
       "      <td>1</td>\n",
       "      <td>0</td>\n",
       "      <td>5</td>\n",
       "      <td>0</td>\n",
       "      <td>1</td>\n",
       "      <td>0</td>\n",
       "      <td>0</td>\n",
       "      <td>0</td>\n",
       "      <td>0</td>\n",
       "      <td>1</td>\n",
       "      <td>1</td>\n",
       "      <td>0</td>\n",
       "      <td>0</td>\n",
       "      <td>0</td>\n",
       "      <td>0</td>\n",
       "      <td>0</td>\n",
       "      <td>1</td>\n",
       "    </tr>\n",
       "  </tbody>\n",
       "</table>\n",
       "</div>"
      ],
      "text/plain": [
       "   Tenure_Time  Dist_Warehouse_Home  Hours_App  Registered_Devices  \\\n",
       "0     4.000000                  6.0   3.000000                 3.0   \n",
       "1     6.454469                  8.0   3.000000                 4.0   \n",
       "2     6.711164                 30.0   2.000000                 4.0   \n",
       "3     0.000000                 15.0   2.000000                 4.0   \n",
       "4     0.000000                 12.0   2.645239                 3.0   \n",
       "\n",
       "   Number_Address  Percentage_Increase_Last_Year  Coupon_Used_LM  Order_Count  \\\n",
       "0             9.0                           11.0             1.0          1.0   \n",
       "1             7.0                           15.0             0.0          1.0   \n",
       "2             6.0                           14.0             0.0          1.0   \n",
       "3             8.0                           23.0             0.0          1.0   \n",
       "4             3.0                           11.0             1.0          1.0   \n",
       "\n",
       "   Days_LO  Average_Cashback  Customer_ID  Tier_City  Churn_Flag  Complain  \\\n",
       "0      5.0            159.93        50001          3           1         1   \n",
       "1      0.0            120.90        50002          1           1         1   \n",
       "2      3.0            120.28        50003          1           1         1   \n",
       "3      3.0            134.07        50004          3           1         0   \n",
       "4      3.0            129.60        50005          1           1         0   \n",
       "\n",
       "   SatisfactionScore  Payment_Mode_Cash on Delivery  Payment_Mode_Credit Card  \\\n",
       "0                  2                              0                         0   \n",
       "1                  3                              0                         0   \n",
       "2                  3                              0                         0   \n",
       "3                  5                              0                         0   \n",
       "4                  5                              0                         1   \n",
       "\n",
       "   Payment_Mode_Debit Card  Payment_Mode_E wallet  Payment_Mode_UPI  \\\n",
       "0                        1                      0                 0   \n",
       "1                        0                      0                 1   \n",
       "2                        1                      0                 0   \n",
       "3                        1                      0                 0   \n",
       "4                        0                      0                 0   \n",
       "\n",
       "   Gender_Female  Gender_Male  Order_Category_Electronics  \\\n",
       "0              1            0                           1   \n",
       "1              0            1                           1   \n",
       "2              0            1                           1   \n",
       "3              0            1                           1   \n",
       "4              0            1                           1   \n",
       "\n",
       "   Order_Category_Fashion  Order_Category_Grocery  Order_Category_Others  \\\n",
       "0                       0                       0                      0   \n",
       "1                       0                       0                      0   \n",
       "2                       0                       0                      0   \n",
       "3                       0                       0                      0   \n",
       "4                       0                       0                      0   \n",
       "\n",
       "   MaritalStatus_Divorced  MaritalStatus_Married  MaritalStatus_Single  \n",
       "0                       0                      0                     1  \n",
       "1                       0                      0                     1  \n",
       "2                       0                      0                     1  \n",
       "3                       0                      0                     1  \n",
       "4                       0                      0                     1  "
      ]
     },
     "execution_count": 47,
     "metadata": {},
     "output_type": "execute_result"
    }
   ],
   "source": [
    "df4 = pd.get_dummies(df4)\n",
    "df4.head()"
   ]
  },
  {
   "cell_type": "code",
   "execution_count": 48,
   "metadata": {
    "id": "omK9m_B7SFGD"
   },
   "outputs": [],
   "source": [
    "###### Feature Engineering\n",
    "df4['AvgTimeSpent'] = df4['Hours_App'] / df4['Registered_Devices']\n"
   ]
  },
  {
   "cell_type": "code",
   "execution_count": 49,
   "metadata": {},
   "outputs": [],
   "source": [
    "from sklearn.preprocessing import StandardScaler"
   ]
  },
  {
   "cell_type": "code",
   "execution_count": 50,
   "metadata": {},
   "outputs": [],
   "source": [
    "column = ['Tenure_Time', 'Tier_City', 'Dist_Warehouse_Home', 'Hours_App', 'Registered_Devices', \n",
    "          'SatisfactionScore', 'Number_Address', 'Percentage_Increase_Last_Year', 'Coupon_Used_LM', \n",
    "          'Order_Count', 'Days_LO',  'Average_Cashback']\n",
    "for col in column:\n",
    "    df4[col] = StandardScaler().fit_transform(df4[col].values.reshape(len(df4),1))"
   ]
  },
  {
   "cell_type": "code",
   "execution_count": 51,
   "metadata": {},
   "outputs": [
    {
     "data": {
      "text/html": [
       "<div>\n",
       "<style scoped>\n",
       "    .dataframe tbody tr th:only-of-type {\n",
       "        vertical-align: middle;\n",
       "    }\n",
       "\n",
       "    .dataframe tbody tr th {\n",
       "        vertical-align: top;\n",
       "    }\n",
       "\n",
       "    .dataframe thead th {\n",
       "        text-align: right;\n",
       "    }\n",
       "</style>\n",
       "<table border=\"1\" class=\"dataframe\">\n",
       "  <thead>\n",
       "    <tr style=\"text-align: right;\">\n",
       "      <th></th>\n",
       "      <th>Tenure_Time</th>\n",
       "      <th>Dist_Warehouse_Home</th>\n",
       "      <th>Registered_Devices</th>\n",
       "      <th>Days_LO</th>\n",
       "      <th>Average_Cashback</th>\n",
       "      <th>Tier_City</th>\n",
       "      <th>Churn_Flag</th>\n",
       "      <th>Complain</th>\n",
       "      <th>SatisfactionScore</th>\n",
       "      <th>Payment_Mode_Cash on Delivery</th>\n",
       "      <th>Payment_Mode_E wallet</th>\n",
       "      <th>Order_Category_Electronics</th>\n",
       "      <th>Order_Category_Grocery</th>\n",
       "      <th>Order_Category_Others</th>\n",
       "      <th>MaritalStatus_Married</th>\n",
       "      <th>MaritalStatus_Single</th>\n",
       "      <th>AvgTimeSpent</th>\n",
       "    </tr>\n",
       "  </thead>\n",
       "  <tbody>\n",
       "    <tr>\n",
       "      <th>933</th>\n",
       "      <td>-1.16546</td>\n",
       "      <td>1.784459</td>\n",
       "      <td>0.316639</td>\n",
       "      <td>1.721025</td>\n",
       "      <td>-0.614494</td>\n",
       "      <td>1.474493</td>\n",
       "      <td>1</td>\n",
       "      <td>1</td>\n",
       "      <td>0.684391</td>\n",
       "      <td>0</td>\n",
       "      <td>0</td>\n",
       "      <td>1</td>\n",
       "      <td>0</td>\n",
       "      <td>0</td>\n",
       "      <td>0</td>\n",
       "      <td>1</td>\n",
       "      <td>0.500000</td>\n",
       "    </tr>\n",
       "    <tr>\n",
       "      <th>1453</th>\n",
       "      <td>-1.16546</td>\n",
       "      <td>-0.325201</td>\n",
       "      <td>0.316639</td>\n",
       "      <td>-1.020358</td>\n",
       "      <td>-0.982033</td>\n",
       "      <td>-0.714335</td>\n",
       "      <td>0</td>\n",
       "      <td>0</td>\n",
       "      <td>-1.491615</td>\n",
       "      <td>0</td>\n",
       "      <td>0</td>\n",
       "      <td>1</td>\n",
       "      <td>0</td>\n",
       "      <td>0</td>\n",
       "      <td>1</td>\n",
       "      <td>0</td>\n",
       "      <td>0.673449</td>\n",
       "    </tr>\n",
       "    <tr>\n",
       "      <th>52</th>\n",
       "      <td>-1.16546</td>\n",
       "      <td>-0.945689</td>\n",
       "      <td>0.316639</td>\n",
       "      <td>-1.324956</td>\n",
       "      <td>-1.366121</td>\n",
       "      <td>-0.714335</td>\n",
       "      <td>1</td>\n",
       "      <td>0</td>\n",
       "      <td>-0.766279</td>\n",
       "      <td>0</td>\n",
       "      <td>0</td>\n",
       "      <td>1</td>\n",
       "      <td>0</td>\n",
       "      <td>0</td>\n",
       "      <td>0</td>\n",
       "      <td>1</td>\n",
       "      <td>0.500000</td>\n",
       "    </tr>\n",
       "  </tbody>\n",
       "</table>\n",
       "</div>"
      ],
      "text/plain": [
       "      Tenure_Time  Dist_Warehouse_Home  Registered_Devices   Days_LO  \\\n",
       "933      -1.16546             1.784459            0.316639  1.721025   \n",
       "1453     -1.16546            -0.325201            0.316639 -1.020358   \n",
       "52       -1.16546            -0.945689            0.316639 -1.324956   \n",
       "\n",
       "      Average_Cashback  Tier_City  Churn_Flag  Complain  SatisfactionScore  \\\n",
       "933          -0.614494   1.474493           1         1           0.684391   \n",
       "1453         -0.982033  -0.714335           0         0          -1.491615   \n",
       "52           -1.366121  -0.714335           1         0          -0.766279   \n",
       "\n",
       "      Payment_Mode_Cash on Delivery  Payment_Mode_E wallet  \\\n",
       "933                               0                      0   \n",
       "1453                              0                      0   \n",
       "52                                0                      0   \n",
       "\n",
       "      Order_Category_Electronics  Order_Category_Grocery  \\\n",
       "933                            1                       0   \n",
       "1453                           1                       0   \n",
       "52                             1                       0   \n",
       "\n",
       "      Order_Category_Others  MaritalStatus_Married  MaritalStatus_Single  \\\n",
       "933                       0                      0                     1   \n",
       "1453                      0                      1                     0   \n",
       "52                        0                      0                     1   \n",
       "\n",
       "      AvgTimeSpent  \n",
       "933       0.500000  \n",
       "1453      0.673449  \n",
       "52        0.500000  "
      ]
     },
     "execution_count": 51,
     "metadata": {},
     "output_type": "execute_result"
    }
   ],
   "source": [
    "column = []\n",
    "for col in df4.columns:\n",
    "    if (abs(df4['Churn_Flag'].corr(df4[col])) > 0.05):\n",
    "        column.append(col)\n",
    "df_final = df4[column]\n",
    "df_final.sample(3)"
   ]
  },
  {
   "cell_type": "code",
   "execution_count": 52,
   "metadata": {
    "id": "xrVjU2DASNF7"
   },
   "outputs": [],
   "source": [
    "#Train Test Split Data\n",
    "X = df_final.drop('Churn_Flag', axis=1)\n",
    "y = df_final['Churn_Flag']"
   ]
  },
  {
   "cell_type": "code",
   "execution_count": 53,
   "metadata": {
    "id": "PXdmVyhtT4pb"
   },
   "outputs": [],
   "source": [
    "X_train, X_test, y_train, y_test = train_test_split(X, y, test_size=0.2, random_state=10)"
   ]
  },
  {
   "cell_type": "code",
   "execution_count": 54,
   "metadata": {
    "colab": {
     "base_uri": "https://localhost:8080/"
    },
    "id": "HjukL5v3UB-9",
    "outputId": "14fc0505-cfd4-4f42-a4cb-7690d58c52e7"
   },
   "outputs": [
    {
     "name": "stdout",
     "output_type": "stream",
     "text": [
      "(4280, 16)\n",
      "(4280,)\n",
      "0    3526\n",
      "1     754\n",
      "Name: Churn_Flag, dtype: int64\n"
     ]
    }
   ],
   "source": [
    "#Handle Class Imbalance\n",
    "print(X_train.shape)\n",
    "print(y_train.shape)\n",
    "print(y_train.value_counts())"
   ]
  },
  {
   "cell_type": "code",
   "execution_count": 55,
   "metadata": {
    "id": "KEKxZBpwW3hK"
   },
   "outputs": [],
   "source": [
    "def evaluation(model_str, y_pred, y_pred_train):\n",
    "    results = {\n",
    "        'model': model_str,\n",
    "        'acc test' : accuracy_score(y_test, y_pred),\n",
    "        'acc train': accuracy_score(y_train, y_pred_train),\n",
    "        'prec test' : precision_score(y_test, y_pred),\n",
    "        'prec train' : precision_score(y_train, y_pred_train),\n",
    "        'rec test' : recall_score(y_test, y_pred),\n",
    "        'rec train' : recall_score(y_train, y_pred_train),\n",
    "        'f2 test': fbeta_score(y_test, y_pred, pos_label=0,  beta=2),\n",
    "        'f2 train': fbeta_score(y_train, y_pred_train, pos_label=0,  beta=2)\n",
    "    }\n",
    "    return results"
   ]
  },
  {
   "cell_type": "code",
   "execution_count": 56,
   "metadata": {},
   "outputs": [],
   "source": [
    "X_train, X_test, y_train, y_test = train_test_split(X, y, test_size=0.2, random_state=42)"
   ]
  },
  {
   "cell_type": "code",
   "execution_count": 57,
   "metadata": {},
   "outputs": [],
   "source": [
    "\n",
    "decision_pipe = make_pipeline(RandomOverSampler(sampling_strategy='minority'), DecisionTreeClassifier())\n",
    "#CatBoost_GBM_pipe = make_pipeline(RandomOverSampler(sampling_strategy='minority'), CatBoostClassifier(verbose=False))\n",
    "XGBoost_GBM_pipe = make_pipeline(RandomOverSampler(sampling_strategy='minority'), XGBClassifier())\n",
    " "
   ]
  },
  {
   "cell_type": "code",
   "execution_count": 58,
   "metadata": {},
   "outputs": [],
   "source": [
    "scoring = {\n",
    "    'precision': make_scorer(precision_score),\n",
    "    'recall': make_scorer(recall_score),\n",
    "    'f1': make_scorer(f1_score),\n",
    "    'roc_auc': make_scorer(roc_auc_score),\n",
    "    'accuracy': make_scorer(accuracy_score)\n",
    "}"
   ]
  },
  {
   "cell_type": "code",
   "execution_count": 80,
   "metadata": {},
   "outputs": [],
   "source": [
    "cat_param_grid = {\n",
    "    'catboostclassifier__n_estimators': [100, 500, 1000],\n",
    "    'catboostclassifier__learning_rate': [0.01, 0.1, 1],\n",
    "    'catboostclassifier__max_depth': [2, 4, 6, 8, 10],\n",
    "    'catboostclassifier__l2_leaf_reg': [0, 0.1, 1, 10]\n",
    "}\n",
    "\n",
    "\n",
    "decision_param_grid = {\n",
    "    'decisiontreeclassifier__max_depth': [3, 5, 7],\n",
    "    'decisiontreeclassifier__min_samples_split': [2, 5, 10],\n",
    "    'decisiontreeclassifier__min_samples_leaf': [1, 2, 4],\n",
    "    'decisiontreeclassifier__ccp_alpha': [0.1, 0.5, 1]\n",
    "}\n",
    "\n",
    "#xgb_param_grid = {\n",
    " #   'xgbclassifier__n_estimators': [100, 500, 1000],\n",
    "  #  'xgbclassifier__learning_rate': [0.01, 0.1, 1],\n",
    "   # 'xgbclassifier__max_depth': [2, 4, 6, 8, 10],\n",
    "    #'xgbclassifier__reg_alpha': [0, 0.001, 0.01, 0.1, 1],\n",
    "    #'xgbclassifier__reg_lambda': [0, 0.001, 0.01, 0.1, 1],\n",
    "#}\n",
    "\n",
    "\n",
    "xgb_param_grid = {\n",
    "    'xgbclassifier__reg_alpha': [0, 0.001, 0.01, 0.1, 1],\n",
    "    'xgbclassifier__reg_lambda': [0, 0.001, 0.01, 0.1, 1],\n",
    "    'xgbclassifier__learning_rate': [0.01, 0.1, 0.3],\n",
    "    'xgbclassifier__max_depth': [3, 5]\n",
    "}"
   ]
  },
  {
   "cell_type": "code",
   "execution_count": 81,
   "metadata": {},
   "outputs": [],
   "source": [
    "#models = [\n",
    " #   ('Decision_Tree',decision_pipe, decision_param_grid),\n",
    "  #  ('XgBoost',XGBoost_GBM_pipe,xgb_param_grid)\n",
    "  \n",
    "#]"
   ]
  },
  {
   "cell_type": "code",
   "execution_count": 82,
   "metadata": {},
   "outputs": [],
   "source": [
    "models = [('XgBoost',XGBoost_GBM_pipe,xgb_param_grid)]\n"
   ]
  },
  {
   "cell_type": "code",
   "execution_count": 84,
   "metadata": {
    "scrolled": true
   },
   "outputs": [
    {
     "name": "stdout",
     "output_type": "stream",
     "text": [
      "One\n",
      "Best hyperparameters: Pipeline(steps=[('randomoversampler',\n",
      "                 RandomOverSampler(sampling_strategy='minority')),\n",
      "                ('xgbclassifier',\n",
      "                 XGBClassifier(base_score=None, booster=None, callbacks=None,\n",
      "                               colsample_bylevel=None, colsample_bynode=None,\n",
      "                               colsample_bytree=None,\n",
      "                               early_stopping_rounds=None,\n",
      "                               enable_categorical=False, eval_metric=None,\n",
      "                               feature_types=None, gamma=None, gpu_id=None,\n",
      "                               grow_policy=None, importance_type=None,\n",
      "                               interaction_constraints=None, learning_rate=0.3,\n",
      "                               max_bin=None, max_cat_threshold=None,\n",
      "                               max_cat_to_onehot=None, max_delta_step=None,\n",
      "                               max_depth=5, max_leaves=None,\n",
      "                               min_child_weight=None, missing=nan,\n",
      "                               monotone_constraints=None, n_estimators=100,\n",
      "                               n_jobs=None, num_parallel_tree=None,\n",
      "                               predictor=None, random_state=None, ...))])\n",
      "Two\n",
      "Best parameter for precision: {'xgbclassifier__learning_rate': 0.3, 'xgbclassifier__max_depth': 5, 'xgbclassifier__reg_alpha': 0.1, 'xgbclassifier__reg_lambda': 0}\n",
      "Best precision: 0.928321\n",
      "Mean precision: 0.846554 (std: 0.021690)\n",
      "\n",
      "Best parameter for recall: {'xgbclassifier__learning_rate': 0.3, 'xgbclassifier__max_depth': 5, 'xgbclassifier__reg_alpha': 0.1, 'xgbclassifier__reg_lambda': 0}\n",
      "Best recall: 0.928321\n",
      "Mean recall: 0.890541 (std: 0.012385)\n",
      "\n",
      "Best parameter for f1: {'xgbclassifier__learning_rate': 0.3, 'xgbclassifier__max_depth': 5, 'xgbclassifier__reg_alpha': 0.1, 'xgbclassifier__reg_lambda': 0}\n",
      "Best f1: 0.928321\n",
      "Mean f1: 0.867785 (std: 0.011991)\n",
      "\n",
      "Best parameter for roc_auc: {'xgbclassifier__learning_rate': 0.3, 'xgbclassifier__max_depth': 5, 'xgbclassifier__reg_alpha': 0.1, 'xgbclassifier__reg_lambda': 0}\n",
      "Best roc_auc: 0.928321\n",
      "Mean roc_auc: 0.928321 (std: 0.006159)\n",
      "\n",
      "Best parameter for accuracy: {'xgbclassifier__learning_rate': 0.3, 'xgbclassifier__max_depth': 5, 'xgbclassifier__reg_alpha': 0.1, 'xgbclassifier__reg_lambda': 0}\n",
      "Best accuracy: 0.928321\n",
      "Mean accuracy: 0.953037 (std: 0.004696)\n",
      "\n",
      "precision: 0.847\n",
      "recall: 0.891\n",
      "f1: 0.868\n",
      "roc_auc: 0.928\n",
      "accuracy: 0.953\n"
     ]
    },
    {
     "data": {
      "image/png": "[encoded data removed]",
      "text/plain": [
       "<Figure size 640x480 with 1 Axes>"
      ]
     },
     "metadata": {},
     "output_type": "display_data"
    },
    {
     "name": "stdout",
     "output_type": "stream",
     "text": [
      "Three\n"
     ]
    },
    {
     "data": {
      "image/png": "[encoded data removed]",
      "text/plain": [
       "<Figure size 640x480 with 1 Axes>"
      ]
     },
     "metadata": {},
     "output_type": "display_data"
    },
    {
     "name": "stdout",
     "output_type": "stream",
     "text": [
      "[[871  27]\n",
      " [ 16 156]]\n"
     ]
    }
   ],
   "source": [
    "# Define the cross-validation strategy\n",
    "for model_name,model,param_grid in models:\n",
    "    print(\"One\")\n",
    "    cv = StratifiedKFold(n_splits=5, shuffle=True, random_state=42)\n",
    "    grid = GridSearchCV(model, param_grid=param_grid, cv=5, scoring=scoring, refit='roc_auc')\n",
    "    grid.fit(X_train, y_train)\n",
    "    best_estimator = grid.best_estimator_\n",
    "    best_estimator.fit(X_train, y_train)\n",
    "    print('Best hyperparameters:', best_estimator)\n",
    "    results = grid.cv_results_\n",
    "    y_pred = best_estimator.predict(X_test)\n",
    "    print(\"Two\")\n",
    "    for scorer in scoring:\n",
    "        print(\"Best parameter for %s: %s\" % (scorer, grid.best_params_))\n",
    "        print(\"Best %s: %f\" % (scorer, grid.best_score_))\n",
    "        print(\"Mean %s: %f (std: %f)\" % (scorer, results['mean_test_%s' % scorer][grid.best_index_], results['std_test_%s' % scorer][grid.best_index_]))\n",
    "        print()\n",
    "    cv_results = grid.cv_results_\n",
    "    for metric_name in scoring:\n",
    "        print(\"{}: {:.3f}\".format(metric_name, cv_results[\"mean_test_{}\".format(metric_name)][grid.best_index_]))\n",
    "        # Plot the PR ROC curve for the testing data\n",
    "    disp = plot_precision_recall_curve(best_estimator, X_test, y_test)\n",
    "    disp.ax_.set_title('Precision-Recall curve')\n",
    "    plt.show()\n",
    "    print(\"Three\")\n",
    "    disp = plot_roc_curve(best_estimator, X_test, y_test)\n",
    "    disp.ax_.set_title('ROC curve')\n",
    "    plt.show()\n",
    "    \n",
    "    # Calculate confusion matrix\n",
    "    cm = confusion_matrix(y_test, y_pred)\n",
    "    print(cm)"
   ]
  },
  {
   "cell_type": "code",
   "execution_count": 91,
   "metadata": {},
   "outputs": [
    {
     "data": {
      "image/png": "[encoded data removed]",
      "text/plain": [
       "<Figure size 640x480 with 2 Axes>"
      ]
     },
     "metadata": {},
     "output_type": "display_data"
    }
   ],
   "source": [
    "# Create a heatmap using Seaborn\n",
    "sns.heatmap(cm, annot=True, cmap=\"Blues\",fmt=\".0f\")\n",
    "\n",
    "# Add labels and title\n",
    "plt.xlabel(\"Predicted\")\n",
    "plt.ylabel(\"Actual\")\n",
    "plt.title(\"Confusion Matrix\")\n",
    "\n",
    "# Show the plot\n",
    "plt.show()\n"
   ]
  },
  {
   "cell_type": "code",
   "execution_count": 90,
   "metadata": {},
   "outputs": [
    {
     "data": {
      "text/plain": [
       "array([[871,  27],\n",
       "       [ 16, 156]], dtype=int64)"
      ]
     },
     "execution_count": 90,
     "metadata": {},
     "output_type": "execute_result"
    }
   ],
   "source": [
    "cm"
   ]
  },
  {
   "cell_type": "code",
   "execution_count": null,
   "metadata": {},
   "outputs": [],
   "source": []
  }
 ],
 "metadata": {
  "colab": {
   "provenance": []
  },
  "kernelspec": {
   "display_name": "Python 3 (ipykernel)",
   "language": "python",
   "name": "python3"
  },
  "language_info": {
   "codemirror_mode": {
    "name": "ipython",
    "version": 3
   },
   "file_extension": ".py",
   "mimetype": "text/x-python",
   "name": "python",
   "nbconvert_exporter": "python",
   "pygments_lexer": "ipython3",
   "version": "3.9.13"
  }
 },
 "nbformat": 4,
 "nbformat_minor": 1
}
